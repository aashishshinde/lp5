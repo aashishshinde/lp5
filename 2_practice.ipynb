{
 "cells": [
  {
   "cell_type": "code",
   "execution_count": 9,
   "metadata": {},
   "outputs": [],
   "source": [
    "import numpy as np\n",
    "from keras.datasets import imdb\n",
    "from keras.models import Sequential\n",
    "from keras.layers import Dense, Embedding, Flatten\n",
    "from keras.preprocessing.sequence import pad_sequences "
   ]
  },
  {
   "cell_type": "code",
   "execution_count": 14,
   "metadata": {},
   "outputs": [],
   "source": [
    "max_words = 10000\n",
    "(x_train,y_train),(x_test,y_test) = imdb.load_data(num_words=max_words)"
   ]
  },
  {
   "cell_type": "code",
   "execution_count": 15,
   "metadata": {},
   "outputs": [],
   "source": [
    "maxlen = 200\n",
    "x_train = pad_sequences(x_train,maxlen=maxlen)\n",
    "x_test = pad_sequences(x_test,maxlen=maxlen)"
   ]
  },
  {
   "cell_type": "code",
   "execution_count": 20,
   "metadata": {},
   "outputs": [],
   "source": [
    "model = Sequential()\n",
    "model.add(Embedding(input_dim=max_words,output_dim=32,input_length=maxlen))\n",
    "model.add(Flatten())\n",
    "model.add(Dense(1,activation='sigmoid'))\n",
    "\n",
    "model.compile(optimizer='adam',loss='binary_crossentropy',metrics=['accuracy'])"
   ]
  },
  {
   "cell_type": "code",
   "execution_count": 21,
   "metadata": {},
   "outputs": [
    {
     "name": "stdout",
     "output_type": "stream",
     "text": [
      "Epoch 1/10\n",
      "625/625 [==============================] - 8s 12ms/step - loss: 0.4779 - accuracy: 0.7689 - val_loss: 0.3132 - val_accuracy: 0.8732\n",
      "Epoch 2/10\n",
      "625/625 [==============================] - 7s 12ms/step - loss: 0.2130 - accuracy: 0.9215 - val_loss: 0.2848 - val_accuracy: 0.8784\n",
      "Epoch 3/10\n",
      "625/625 [==============================] - 7s 12ms/step - loss: 0.1158 - accuracy: 0.9657 - val_loss: 0.2976 - val_accuracy: 0.8778\n",
      "Epoch 4/10\n",
      "625/625 [==============================] - 7s 12ms/step - loss: 0.0531 - accuracy: 0.9915 - val_loss: 0.3162 - val_accuracy: 0.8764\n",
      "Epoch 5/10\n",
      "625/625 [==============================] - 7s 12ms/step - loss: 0.0243 - accuracy: 0.9980 - val_loss: 0.3503 - val_accuracy: 0.8738\n",
      "Epoch 6/10\n",
      "625/625 [==============================] - 7s 12ms/step - loss: 0.0120 - accuracy: 0.9995 - val_loss: 0.3706 - val_accuracy: 0.8764\n",
      "Epoch 7/10\n",
      "625/625 [==============================] - 8s 12ms/step - loss: 0.0064 - accuracy: 0.9998 - val_loss: 0.3843 - val_accuracy: 0.8778\n",
      "Epoch 8/10\n",
      "625/625 [==============================] - 8s 13ms/step - loss: 0.0037 - accuracy: 0.9999 - val_loss: 0.4037 - val_accuracy: 0.8776\n",
      "Epoch 9/10\n",
      "625/625 [==============================] - 8s 13ms/step - loss: 0.0023 - accuracy: 1.0000 - val_loss: 0.4303 - val_accuracy: 0.8752\n",
      "Epoch 10/10\n",
      "625/625 [==============================] - 7s 12ms/step - loss: 0.0015 - accuracy: 1.0000 - val_loss: 0.4462 - val_accuracy: 0.8776\n"
     ]
    },
    {
     "data": {
      "text/plain": [
       "<keras.src.callbacks.History at 0x156de384bb0>"
      ]
     },
     "execution_count": 21,
     "metadata": {},
     "output_type": "execute_result"
    }
   ],
   "source": [
    "model.fit(x_train,y_train,epochs=10,validation_split=0.2)"
   ]
  },
  {
   "cell_type": "code",
   "execution_count": 23,
   "metadata": {},
   "outputs": [
    {
     "name": "stdout",
     "output_type": "stream",
     "text": [
      "782/782 [==============================] - 2s 2ms/step - loss: 0.4708 - accuracy: 0.8659\n",
      "Loss:  0.470805287361145\n",
      "Accuracy:  0.8659200072288513\n"
     ]
    }
   ],
   "source": [
    "loss, accuracy = model.evaluate(x_test,y_test)\n",
    "print(\"Loss: \" ,loss)\n",
    "print(\"Accuracy: \" , accuracy)"
   ]
  },
  {
   "cell_type": "code",
   "execution_count": 28,
   "metadata": {},
   "outputs": [
    {
     "name": "stdout",
     "output_type": "stream",
     "text": [
      "782/782 [==============================] - 2s 2ms/step\n"
     ]
    }
   ],
   "source": [
    "predictions = model.predict(x_test)\n",
    "\n",
    "binary_predictions = np.round(predictions)"
   ]
  },
  {
   "cell_type": "code",
   "execution_count": 31,
   "metadata": {},
   "outputs": [
    {
     "name": "stdout",
     "output_type": "stream",
     "text": [
      "Actual\t\t\tPredicted\n",
      "\n",
      "Negative\t\tNegative\n",
      "Positive\t\tPositive\n",
      "Positive\t\tPositive\n",
      "Negative\t\tNegative\n",
      "Positive\t\tPositive\n",
      "Positive\t\tPositive\n",
      "Positive\t\tPositive\n",
      "Negative\t\tNegative\n",
      "Negative\t\tPositive\n",
      "Positive\t\tPositive\n",
      "Positive\t\tPositive\n",
      "Negative\t\tNegative\n",
      "Negative\t\tNegative\n",
      "Negative\t\tNegative\n",
      "Positive\t\tPositive\n",
      "Negative\t\tNegative\n",
      "Positive\t\tPositive\n",
      "Negative\t\tNegative\n",
      "Negative\t\tNegative\n",
      "Negative\t\tNegative\n",
      "Positive\t\tPositive\n",
      "Positive\t\tPositive\n",
      "Positive\t\tPositive\n",
      "Positive\t\tPositive\n",
      "Positive\t\tPositive\n",
      "Positive\t\tPositive\n",
      "Negative\t\tNegative\n",
      "Positive\t\tPositive\n",
      "Positive\t\tPositive\n",
      "Negative\t\tNegative\n",
      "Positive\t\tPositive\n",
      "Positive\t\tPositive\n",
      "Negative\t\tNegative\n",
      "Negative\t\tNegative\n",
      "Negative\t\tNegative\n",
      "Negative\t\tNegative\n",
      "Positive\t\tPositive\n",
      "Positive\t\tPositive\n",
      "Negative\t\tNegative\n",
      "Negative\t\tNegative\n",
      "Positive\t\tPositive\n",
      "Positive\t\tPositive\n",
      "Negative\t\tNegative\n",
      "Positive\t\tPositive\n",
      "Positive\t\tPositive\n",
      "Positive\t\tPositive\n",
      "Negative\t\tNegative\n",
      "Negative\t\tNegative\n",
      "Negative\t\tNegative\n",
      "Positive\t\tPositive\n"
     ]
    }
   ],
   "source": [
    "print(\"Actual\\t\\t\\tPredicted\")\n",
    "print()\n",
    "\n",
    "for i in range(50):\n",
    "    actual = 'Positive' if y_test[i] == 1 else 'Negative'\n",
    "    predicted = 'Positive' if binary_predictions[i] == 1 else 'Negative'\n",
    "    print(f\"{actual}\\t\\t{predicted}\")"
   ]
  },
  {
   "cell_type": "code",
   "execution_count": null,
   "metadata": {},
   "outputs": [],
   "source": []
  }
 ],
 "metadata": {
  "kernelspec": {
   "display_name": "Python 3",
   "language": "python",
   "name": "python3"
  },
  "language_info": {
   "codemirror_mode": {
    "name": "ipython",
    "version": 3
   },
   "file_extension": ".py",
   "mimetype": "text/x-python",
   "name": "python",
   "nbconvert_exporter": "python",
   "pygments_lexer": "ipython3",
   "version": "3.8.5"
  }
 },
 "nbformat": 4,
 "nbformat_minor": 4
}
